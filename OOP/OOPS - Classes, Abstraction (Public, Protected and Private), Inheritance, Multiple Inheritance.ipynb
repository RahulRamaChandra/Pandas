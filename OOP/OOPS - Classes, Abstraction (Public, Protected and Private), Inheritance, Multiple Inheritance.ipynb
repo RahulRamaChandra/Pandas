{
 "cells": [
  {
   "cell_type": "code",
   "execution_count": null,
   "id": "629994ad",
   "metadata": {},
   "outputs": [],
   "source": []
  },
  {
   "cell_type": "code",
   "execution_count": 1,
   "id": "28f0b1ac",
   "metadata": {},
   "outputs": [],
   "source": [
    "class test:\n",
    "    pass"
   ]
  },
  {
   "cell_type": "code",
   "execution_count": 2,
   "id": "b5e18b8f",
   "metadata": {},
   "outputs": [],
   "source": [
    "class person:\n",
    "    pass"
   ]
  },
  {
   "cell_type": "code",
   "execution_count": 3,
   "id": "cdac6db3",
   "metadata": {},
   "outputs": [],
   "source": [
    "p = person"
   ]
  },
  {
   "cell_type": "code",
   "execution_count": 4,
   "id": "433e73a7",
   "metadata": {},
   "outputs": [
    {
     "data": {
      "text/plain": [
       "__main__.person"
      ]
     },
     "execution_count": 4,
     "metadata": {},
     "output_type": "execute_result"
    }
   ],
   "source": [
    "p"
   ]
  },
  {
   "cell_type": "code",
   "execution_count": 5,
   "id": "9bc1dcb2",
   "metadata": {},
   "outputs": [
    {
     "data": {
      "text/plain": [
       "type"
      ]
     },
     "execution_count": 5,
     "metadata": {},
     "output_type": "execute_result"
    }
   ],
   "source": [
    "type(p)"
   ]
  },
  {
   "cell_type": "code",
   "execution_count": 6,
   "id": "ff41d512",
   "metadata": {},
   "outputs": [
    {
     "name": "stdout",
     "output_type": "stream",
     "text": [
      "<class '__main__.person'>\n"
     ]
    }
   ],
   "source": [
    "print(p)"
   ]
  },
  {
   "cell_type": "code",
   "execution_count": 7,
   "id": "f7c19b5c",
   "metadata": {},
   "outputs": [],
   "source": [
    "p.name = \"sudh\"\n",
    "p.surname = \"kumar\"\n",
    "p.yob = 32432"
   ]
  },
  {
   "cell_type": "code",
   "execution_count": 8,
   "id": "d934cc0f",
   "metadata": {},
   "outputs": [],
   "source": [
    "a = person\n",
    "a.name = \"abc\"\n",
    "a.yob = 12345\n",
    "a.empno = 12345678"
   ]
  },
  {
   "cell_type": "code",
   "execution_count": 9,
   "id": "cef50b55",
   "metadata": {},
   "outputs": [
    {
     "data": {
      "text/plain": [
       "'abc'"
      ]
     },
     "execution_count": 9,
     "metadata": {},
     "output_type": "execute_result"
    }
   ],
   "source": [
    "p.name "
   ]
  },
  {
   "cell_type": "code",
   "execution_count": 10,
   "id": "3b0a4a70",
   "metadata": {},
   "outputs": [
    {
     "data": {
      "text/plain": [
       "'kumar'"
      ]
     },
     "execution_count": 10,
     "metadata": {},
     "output_type": "execute_result"
    }
   ],
   "source": [
    "p.surname"
   ]
  },
  {
   "cell_type": "code",
   "execution_count": 12,
   "id": "1134878e",
   "metadata": {},
   "outputs": [
    {
     "data": {
      "text/plain": [
       "12345"
      ]
     },
     "execution_count": 12,
     "metadata": {},
     "output_type": "execute_result"
    }
   ],
   "source": [
    "p.yob"
   ]
  },
  {
   "cell_type": "code",
   "execution_count": 13,
   "id": "62ae6804",
   "metadata": {},
   "outputs": [
    {
     "data": {
      "text/plain": [
       "'abc'"
      ]
     },
     "execution_count": 13,
     "metadata": {},
     "output_type": "execute_result"
    }
   ],
   "source": [
    "a.name"
   ]
  },
  {
   "cell_type": "code",
   "execution_count": 14,
   "id": "bfe6e4f6",
   "metadata": {},
   "outputs": [
    {
     "data": {
      "text/plain": [
       "'kumar'"
      ]
     },
     "execution_count": 14,
     "metadata": {},
     "output_type": "execute_result"
    }
   ],
   "source": [
    "a.surname"
   ]
  },
  {
   "cell_type": "code",
   "execution_count": 27,
   "id": "b826885c",
   "metadata": {},
   "outputs": [],
   "source": [
    "class Person:\n",
    "    def __init__(self, name, surname, yob):\n",
    "        self.name = name\n",
    "        self.surname = surname\n",
    "        self.yob = yob"
   ]
  },
  {
   "cell_type": "code",
   "execution_count": 17,
   "id": "12c1792c",
   "metadata": {},
   "outputs": [],
   "source": [
    "man1 = person(\"rahul\", \"rama\", 1996)"
   ]
  },
  {
   "cell_type": "code",
   "execution_count": 18,
   "id": "3007674a",
   "metadata": {},
   "outputs": [
    {
     "data": {
      "text/plain": [
       "'rahul'"
      ]
     },
     "execution_count": 18,
     "metadata": {},
     "output_type": "execute_result"
    }
   ],
   "source": [
    "man1.name"
   ]
  },
  {
   "cell_type": "code",
   "execution_count": 19,
   "id": "c1ac9801",
   "metadata": {},
   "outputs": [
    {
     "data": {
      "text/plain": [
       "'rama'"
      ]
     },
     "execution_count": 19,
     "metadata": {},
     "output_type": "execute_result"
    }
   ],
   "source": [
    "man1.surname"
   ]
  },
  {
   "cell_type": "code",
   "execution_count": 21,
   "id": "3a13d620",
   "metadata": {},
   "outputs": [
    {
     "data": {
      "text/plain": [
       "1996"
      ]
     },
     "execution_count": 21,
     "metadata": {},
     "output_type": "execute_result"
    }
   ],
   "source": [
    "man1.yob"
   ]
  },
  {
   "cell_type": "code",
   "execution_count": 29,
   "id": "09edae83",
   "metadata": {},
   "outputs": [
    {
     "ename": "TypeError",
     "evalue": "__init__() missing 3 required positional arguments: 'name', 'surname', and 'yob'",
     "output_type": "error",
     "traceback": [
      "\u001b[1;31m---------------------------------------------------------------------------\u001b[0m",
      "\u001b[1;31mTypeError\u001b[0m                                 Traceback (most recent call last)",
      "Cell \u001b[1;32mIn[29], line 1\u001b[0m\n\u001b[1;32m----> 1\u001b[0m p \u001b[38;5;241m=\u001b[39m \u001b[43mPerson\u001b[49m\u001b[43m(\u001b[49m\u001b[43m)\u001b[49m\n",
      "\u001b[1;31mTypeError\u001b[0m: __init__() missing 3 required positional arguments: 'name', 'surname', and 'yob'"
     ]
    }
   ],
   "source": [
    "p = Person()"
   ]
  },
  {
   "cell_type": "code",
   "execution_count": 25,
   "id": "692c5b65",
   "metadata": {},
   "outputs": [
    {
     "name": "stdout",
     "output_type": "stream",
     "text": [
      "<class '__main__.person'>\n"
     ]
    }
   ],
   "source": [
    "print(p)"
   ]
  },
  {
   "cell_type": "code",
   "execution_count": 85,
   "id": "ec67da87",
   "metadata": {},
   "outputs": [],
   "source": [
    "class Person:\n",
    "    \n",
    "    def __init__(self, name, surname, yob):\n",
    "        \n",
    "        self.name = name\n",
    "        self.surname = surname\n",
    "        self.yob = yob\n",
    "        \n",
    "    def test(self, n, m):\n",
    "        \n",
    "        return n + m + self.yob\n",
    "    \n",
    "    def __str__(self):\n",
    "        \n",
    "        #return \"my name is Rahul Rama Chandran\"\n",
    "        return \"%s is my first name and %s is my surname and year of birth is %d\" %(self.name, self.surname, self.yob)\n",
    "        "
   ]
  },
  {
   "cell_type": "code",
   "execution_count": 86,
   "id": "1ab0270c",
   "metadata": {},
   "outputs": [],
   "source": [
    "p = Person(\"rahul\", \"rama\", 11)"
   ]
  },
  {
   "cell_type": "code",
   "execution_count": 87,
   "id": "3164917f",
   "metadata": {},
   "outputs": [
    {
     "data": {
      "text/plain": [
       "{'name': 'rahul', 'surname': 'rama', 'yob': 11}"
      ]
     },
     "execution_count": 87,
     "metadata": {},
     "output_type": "execute_result"
    }
   ],
   "source": [
    "p.__dict__"
   ]
  },
  {
   "cell_type": "code",
   "execution_count": null,
   "id": "493424de",
   "metadata": {},
   "outputs": [],
   "source": []
  },
  {
   "cell_type": "code",
   "execution_count": 61,
   "id": "226d4655",
   "metadata": {},
   "outputs": [
    {
     "data": {
      "text/plain": [
       "'rahul'"
      ]
     },
     "execution_count": 61,
     "metadata": {},
     "output_type": "execute_result"
    }
   ],
   "source": [
    "p.name"
   ]
  },
  {
   "cell_type": "code",
   "execution_count": 62,
   "id": "d2f64408",
   "metadata": {},
   "outputs": [
    {
     "data": {
      "text/plain": [
       "14"
      ]
     },
     "execution_count": 62,
     "metadata": {},
     "output_type": "execute_result"
    }
   ],
   "source": [
    "p.test(1,2)"
   ]
  },
  {
   "cell_type": "code",
   "execution_count": 63,
   "id": "cccb3e79",
   "metadata": {},
   "outputs": [
    {
     "name": "stdout",
     "output_type": "stream",
     "text": [
      "rahul is my first name and rama is my surname and year of birth is 11\n"
     ]
    }
   ],
   "source": [
    "print(p)"
   ]
  },
  {
   "cell_type": "code",
   "execution_count": 64,
   "id": "cace9162",
   "metadata": {},
   "outputs": [
    {
     "data": {
      "text/plain": [
       "<__main__.Person at 0x168d4fe0250>"
      ]
     },
     "execution_count": 64,
     "metadata": {},
     "output_type": "execute_result"
    }
   ],
   "source": [
    "p"
   ]
  },
  {
   "cell_type": "code",
   "execution_count": 66,
   "id": "cef938eb",
   "metadata": {},
   "outputs": [],
   "source": [
    "class Test:\n",
    "    pass"
   ]
  },
  {
   "cell_type": "code",
   "execution_count": 67,
   "id": "fc2cf0d7",
   "metadata": {},
   "outputs": [],
   "source": [
    "p = Test()\n",
    "p.name = \"sudh\"\n",
    "p.surname = \"kumar\"\n",
    "p.yob = 234"
   ]
  },
  {
   "cell_type": "code",
   "execution_count": 68,
   "id": "3be0adb8",
   "metadata": {},
   "outputs": [],
   "source": [
    "s = Test()\n",
    "s.name = \"rahul\"\n",
    "s.surname = \"rama\"\n",
    "s.yob = 789"
   ]
  },
  {
   "cell_type": "code",
   "execution_count": 69,
   "id": "b3cac7fd",
   "metadata": {},
   "outputs": [
    {
     "data": {
      "text/plain": [
       "'sudh'"
      ]
     },
     "execution_count": 69,
     "metadata": {},
     "output_type": "execute_result"
    }
   ],
   "source": [
    "p.name"
   ]
  },
  {
   "cell_type": "code",
   "execution_count": 70,
   "id": "7b830a30",
   "metadata": {},
   "outputs": [
    {
     "data": {
      "text/plain": [
       "'rahul'"
      ]
     },
     "execution_count": 70,
     "metadata": {},
     "output_type": "execute_result"
    }
   ],
   "source": [
    "s.name"
   ]
  },
  {
   "cell_type": "code",
   "execution_count": 71,
   "id": "8d1c128c",
   "metadata": {},
   "outputs": [],
   "source": [
    "class Person:\n",
    "    \n",
    "    def pass_name(self, name):\n",
    "        self.name = name\n",
    "        \n",
    "    def pass_surname(self, surname):\n",
    "        self.surname = surname\n",
    "        \n",
    "    def pass_yob(self, yob):\n",
    "        self.yob = yob"
   ]
  },
  {
   "cell_type": "code",
   "execution_count": 72,
   "id": "ad9025d5",
   "metadata": {},
   "outputs": [],
   "source": [
    "p = Person()"
   ]
  },
  {
   "cell_type": "code",
   "execution_count": 74,
   "id": "95a83505",
   "metadata": {},
   "outputs": [],
   "source": [
    "p.pass_name(\"rahul\")"
   ]
  },
  {
   "cell_type": "code",
   "execution_count": 75,
   "id": "03b742fe",
   "metadata": {},
   "outputs": [
    {
     "data": {
      "text/plain": [
       "'rahul'"
      ]
     },
     "execution_count": 75,
     "metadata": {},
     "output_type": "execute_result"
    }
   ],
   "source": [
    "p.name"
   ]
  },
  {
   "cell_type": "code",
   "execution_count": 76,
   "id": "12f80288",
   "metadata": {},
   "outputs": [],
   "source": [
    "s = Person()"
   ]
  },
  {
   "cell_type": "code",
   "execution_count": 78,
   "id": "1f90c6f2",
   "metadata": {},
   "outputs": [],
   "source": [
    "s.pass_surname(\"rama\")\n",
    "s.pass_name(\"rahul\")\n",
    "s.pass_yob(1234)"
   ]
  },
  {
   "cell_type": "code",
   "execution_count": 79,
   "id": "05b25046",
   "metadata": {},
   "outputs": [
    {
     "data": {
      "text/plain": [
       "'rahul'"
      ]
     },
     "execution_count": 79,
     "metadata": {},
     "output_type": "execute_result"
    }
   ],
   "source": [
    "s.name"
   ]
  },
  {
   "cell_type": "code",
   "execution_count": 90,
   "id": "0fed3239",
   "metadata": {},
   "outputs": [],
   "source": [
    "class Person:\n",
    "    \n",
    "    def __init__(self, name, surname, yob):\n",
    "        \n",
    "        self._name = name\n",
    "        self._surname = surname\n",
    "        self._yob = yob\n",
    "        \n",
    "    def test(self, n, m):\n",
    "        \n",
    "        return n + m + self._yob\n",
    "    \n",
    "    def __str__(self):\n",
    "        \n",
    "        #return \"my name is Rahul Rama Chandran\"\n",
    "        return \"%s is my first name and %s is my surname and year of birth is %d\" %(self._name, self._surname, self._yob)"
   ]
  },
  {
   "cell_type": "code",
   "execution_count": 81,
   "id": "5fe33e17",
   "metadata": {},
   "outputs": [],
   "source": [
    "p = Person(\"rahul\", \"rama\", 12)"
   ]
  },
  {
   "cell_type": "code",
   "execution_count": 82,
   "id": "a6be027f",
   "metadata": {},
   "outputs": [
    {
     "ename": "AttributeError",
     "evalue": "'Person' object has no attribute 'name'",
     "output_type": "error",
     "traceback": [
      "\u001b[1;31m---------------------------------------------------------------------------\u001b[0m",
      "\u001b[1;31mAttributeError\u001b[0m                            Traceback (most recent call last)",
      "Cell \u001b[1;32mIn[82], line 1\u001b[0m\n\u001b[1;32m----> 1\u001b[0m \u001b[43mp\u001b[49m\u001b[38;5;241;43m.\u001b[39;49m\u001b[43mname\u001b[49m\n",
      "\u001b[1;31mAttributeError\u001b[0m: 'Person' object has no attribute 'name'"
     ]
    }
   ],
   "source": [
    "p.name"
   ]
  },
  {
   "cell_type": "code",
   "execution_count": 83,
   "id": "9331af8a",
   "metadata": {},
   "outputs": [
    {
     "data": {
      "text/plain": [
       "'rahul'"
      ]
     },
     "execution_count": 83,
     "metadata": {},
     "output_type": "execute_result"
    }
   ],
   "source": [
    "p._name"
   ]
  },
  {
   "cell_type": "code",
   "execution_count": 84,
   "id": "5fbd7f83",
   "metadata": {},
   "outputs": [
    {
     "data": {
      "text/plain": [
       "{'_name': 'rahul', '_surname': 'rama', '_yob': 12}"
      ]
     },
     "execution_count": 84,
     "metadata": {},
     "output_type": "execute_result"
    }
   ],
   "source": [
    "p.__dict__"
   ]
  },
  {
   "cell_type": "code",
   "execution_count": 91,
   "id": "46f39b60",
   "metadata": {},
   "outputs": [],
   "source": [
    "s = Person(\"sudhandhu\", \"kumar\" , 1234)"
   ]
  },
  {
   "cell_type": "code",
   "execution_count": 92,
   "id": "5e6cf63f",
   "metadata": {},
   "outputs": [
    {
     "data": {
      "text/plain": [
       "{'_name': 'sudhandhu', '_surname': 'kumar', '_yob': 1234}"
      ]
     },
     "execution_count": 92,
     "metadata": {},
     "output_type": "execute_result"
    }
   ],
   "source": [
    "s.__dict__"
   ]
  },
  {
   "cell_type": "code",
   "execution_count": 93,
   "id": "0e175aa9",
   "metadata": {},
   "outputs": [],
   "source": [
    "class Person:\n",
    "    \n",
    "    def __init__(self, name, surname, yob):\n",
    "        \n",
    "        self.__name = name\n",
    "        self._surname = surname\n",
    "        self._yob = yob\n",
    "        \n",
    "    def test(self, n, m):\n",
    "        \n",
    "        return n + m + self._yob\n",
    "    \n",
    "    def __str__(self):\n",
    "        \n",
    "        #return \"my name is Rahul Rama Chandran\"\n",
    "        return \"%s is my first name and %s is my surname and year of birth is %d\" %(self.__name, self._surname, self._yob)"
   ]
  },
  {
   "cell_type": "code",
   "execution_count": 94,
   "id": "b11e3c72",
   "metadata": {},
   "outputs": [],
   "source": [
    "p = Person(\"rahul\", \"rama\", 24)"
   ]
  },
  {
   "cell_type": "code",
   "execution_count": 99,
   "id": "4ae2a893",
   "metadata": {},
   "outputs": [
    {
     "data": {
      "text/plain": [
       "{'_Person__name': 'rahul', '_surname': 'rama', '_yob': 24}"
      ]
     },
     "execution_count": 99,
     "metadata": {},
     "output_type": "execute_result"
    }
   ],
   "source": [
    "p.__dict__"
   ]
  },
  {
   "cell_type": "code",
   "execution_count": 101,
   "id": "e8c71845",
   "metadata": {},
   "outputs": [
    {
     "data": {
      "text/plain": [
       "'rahul'"
      ]
     },
     "execution_count": 101,
     "metadata": {},
     "output_type": "execute_result"
    }
   ],
   "source": [
    "p._Person__name"
   ]
  },
  {
   "cell_type": "code",
   "execution_count": 98,
   "id": "c1141cf7",
   "metadata": {},
   "outputs": [
    {
     "data": {
      "text/plain": [
       "'rama'"
      ]
     },
     "execution_count": 98,
     "metadata": {},
     "output_type": "execute_result"
    }
   ],
   "source": [
    "p._surname"
   ]
  },
  {
   "cell_type": "code",
   "execution_count": 102,
   "id": "9b9a24ab",
   "metadata": {},
   "outputs": [],
   "source": [
    "class Student(Person):\n",
    "    \n",
    "    def __init__(self, roll_no, college_name, *args):\n",
    "        \n",
    "        super(Student, self).__init__(*args)\n",
    "        self.roll_no = roll_no\n",
    "        self.college_name = college_name"
   ]
  },
  {
   "cell_type": "code",
   "execution_count": 104,
   "id": "d3733594",
   "metadata": {},
   "outputs": [],
   "source": [
    "stud = Student(24, \"ABC\", \"rahul\", \"rama\",1234)"
   ]
  },
  {
   "cell_type": "code",
   "execution_count": 106,
   "id": "31d4097d",
   "metadata": {},
   "outputs": [
    {
     "data": {
      "text/plain": [
       "'rahul'"
      ]
     },
     "execution_count": 106,
     "metadata": {},
     "output_type": "execute_result"
    }
   ],
   "source": [
    "stud._Person__name"
   ]
  },
  {
   "cell_type": "code",
   "execution_count": 108,
   "id": "334b43a1",
   "metadata": {},
   "outputs": [
    {
     "data": {
      "text/plain": [
       "'rama'"
      ]
     },
     "execution_count": 108,
     "metadata": {},
     "output_type": "execute_result"
    }
   ],
   "source": [
    "stud._surname"
   ]
  },
  {
   "cell_type": "code",
   "execution_count": 109,
   "id": "f4a7c9f5",
   "metadata": {},
   "outputs": [
    {
     "data": {
      "text/plain": [
       "1243"
      ]
     },
     "execution_count": 109,
     "metadata": {},
     "output_type": "execute_result"
    }
   ],
   "source": [
    "stud.test(4,5)"
   ]
  },
  {
   "cell_type": "code",
   "execution_count": 116,
   "id": "70f4063d",
   "metadata": {},
   "outputs": [
    {
     "name": "stdout",
     "output_type": "stream",
     "text": [
      "my name is rahul\n",
      "my surname is rama\n",
      "my name is rahul\n"
     ]
    }
   ],
   "source": [
    "# Multiple Inheritance\n",
    "class a:\n",
    "    def test(self):\n",
    "        print(\"my name is rahul\")\n",
    "        \n",
    "class b:\n",
    "    def test(self):\n",
    "        print(\"my surname is rama\")\n",
    "        \n",
    "class c(a,b):\n",
    "    obja = a()\n",
    "    objb = b()\n",
    "    obja.test()\n",
    "    objb.test()\n",
    "    \n",
    "    \n",
    "objc = c()\n",
    "objc.test()"
   ]
  },
  {
   "cell_type": "code",
   "execution_count": 117,
   "id": "ef64ff74",
   "metadata": {},
   "outputs": [
    {
     "name": "stdout",
     "output_type": "stream",
     "text": [
      "my name is rahul\n",
      "my surname is rama\n",
      "my surname is rama\n"
     ]
    }
   ],
   "source": [
    "class c(b,a):\n",
    "    obja = a()\n",
    "    objb = b()\n",
    "    obja.test()\n",
    "    objb.test()\n",
    "    \n",
    "    \n",
    "objc = c()\n",
    "objc.test()"
   ]
  },
  {
   "cell_type": "code",
   "execution_count": 118,
   "id": "01121927",
   "metadata": {},
   "outputs": [
    {
     "ename": "NameError",
     "evalue": "name 'objb' is not defined",
     "output_type": "error",
     "traceback": [
      "\u001b[1;31m---------------------------------------------------------------------------\u001b[0m",
      "\u001b[1;31mNameError\u001b[0m                                 Traceback (most recent call last)",
      "Cell \u001b[1;32mIn[118], line 1\u001b[0m\n\u001b[1;32m----> 1\u001b[0m \u001b[43mobjb\u001b[49m\u001b[38;5;241m.\u001b[39mtest()\n",
      "\u001b[1;31mNameError\u001b[0m: name 'objb' is not defined"
     ]
    }
   ],
   "source": [
    "objb.test()"
   ]
  },
  {
   "cell_type": "code",
   "execution_count": null,
   "id": "a8eaebcd",
   "metadata": {},
   "outputs": [],
   "source": []
  }
 ],
 "metadata": {
  "kernelspec": {
   "display_name": "Python 3 (ipykernel)",
   "language": "python",
   "name": "python3"
  },
  "language_info": {
   "codemirror_mode": {
    "name": "ipython",
    "version": 3
   },
   "file_extension": ".py",
   "mimetype": "text/x-python",
   "name": "python",
   "nbconvert_exporter": "python",
   "pygments_lexer": "ipython3",
   "version": "3.9.12"
  }
 },
 "nbformat": 4,
 "nbformat_minor": 5
}
